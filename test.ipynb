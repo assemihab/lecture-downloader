{
 "cells": [
  {
   "cell_type": "code",
   "execution_count": 1,
   "metadata": {},
   "outputs": [
    {
     "name": "stdout",
     "output_type": "stream",
     "text": [
      "The 'open' function is part of the io module.\n"
     ]
    }
   ],
   "source": [
    "import inspect\n",
    "\n",
    "# Use the inspect module to find the module of the open function\n",
    "module_name = inspect.getmodule(open).__name__\n",
    "\n",
    "print(f\"The 'open' function is part of the {module_name} module.\")"
   ]
  },
  {
   "cell_type": "code",
   "execution_count": 2,
   "metadata": {},
   "outputs": [
    {
     "name": "stdout",
     "output_type": "stream",
     "text": [
      "The 'open' function is part of the io module.\n"
     ]
    }
   ],
   "source": [
    "import pywhatkit as kit\n",
    "import webbrowser as wb\n",
    "import requests\n",
    "from pywhatkit.core.exceptions import InternetException\n",
    "from bs4 import BeautifulSoup\n",
    "import pyautogui\n",
    "import time\n",
    "import inspect\n",
    "\n",
    "# Use the inspect module to find the module of the open function\n",
    "module_name = inspect.getmodule(open).__name__\n",
    "\n",
    "print(f\"The 'open' function is part of the {module_name} module.\")"
   ]
  },
  {
   "cell_type": "code",
   "execution_count": 3,
   "metadata": {},
   "outputs": [],
   "source": [
    "import datetime"
   ]
  },
  {
   "cell_type": "code",
   "execution_count": null,
   "metadata": {},
   "outputs": [],
   "source": []
  }
 ],
 "metadata": {
  "kernelspec": {
   "display_name": "Python 3",
   "language": "python",
   "name": "python3"
  },
  "language_info": {
   "codemirror_mode": {
    "name": "ipython",
    "version": 3
   },
   "file_extension": ".py",
   "mimetype": "text/x-python",
   "name": "python",
   "nbconvert_exporter": "python",
   "pygments_lexer": "ipython3",
   "version": "3.11.5"
  },
  "orig_nbformat": 4
 },
 "nbformat": 4,
 "nbformat_minor": 2
}
