{
 "cells": [
  {
   "cell_type": "code",
   "execution_count": 48,
   "metadata": {},
   "outputs": [
    {
     "name": "stdout",
     "output_type": "stream",
     "text": [
      "The 'open' function is part of the io module.\n"
     ]
    }
   ],
   "source": [
    "import pywhatkit as kit\n",
    "import webbrowser as wb\n",
    "import requests\n",
    "from pywhatkit.core.exceptions import InternetException\n",
    "from bs4 import BeautifulSoup\n",
    "import pyautogui\n",
    "import time\n",
    "import inspect\n",
    "import datetime\n",
    "import os\n",
    "import shutil\n",
    "\n",
    "# Use the inspect module to find the module of the open function\n",
    "module_name = inspect.getmodule(open).__name__\n",
    "\n",
    "print(f\"The 'open' function is part of the {module_name} module.\")"
   ]
  },
  {
   "cell_type": "code",
   "execution_count": 49,
   "metadata": {},
   "outputs": [],
   "source": [
    "# remaining tasks\n",
    "## organize the files on your computer by creating folder for each subject\n",
    "###demo: create source paths dict with the key as the id of the group\n",
    "##take the latest date you have and put it in the .txt file\n",
    "## download the messages\n",
    "#### first initialize your computer as local server\n",
    "#### second create a javascript post request to your local server\n",
    "#### third organize the important messages as word file\n"
   ]
  },
  {
   "cell_type": "code",
   "execution_count": 50,
   "metadata": {},
   "outputs": [
    {
     "name": "stdout",
     "output_type": "stream",
     "text": [
      "c:\\Users\\dell\\AppData\\Local\\Programs\\Python\\Python311\\Lib\\site-packages\\pywhatkit\\__init__.py\n",
      "c:\\Users\\dell\\AppData\\Local\\Programs\\Python\\Python311\\Lib\\webbrowser.py\n"
     ]
    }
   ],
   "source": [
    "\n",
    "modulePath=kit.__file__\n",
    "print(modulePath)\n",
    "modulePath2=wb.__file__\n",
    "print(modulePath2)"
   ]
  },
  {
   "cell_type": "code",
   "execution_count": 51,
   "metadata": {},
   "outputs": [],
   "source": [
    "def check_connection() -> None:\n",
    "    \"\"\"Check the Internet connection of the Host Machine\"\"\"\n",
    "\n",
    "    try:\n",
    "        requests.get(\"https://google.com\")\n",
    "    except requests.RequestException:\n",
    "        raise InternetException(\n",
    "            \"Error while connecting to the Internet. Make sure you are connected to the Internet!\"\n",
    "        )"
   ]
  },
  {
   "cell_type": "code",
   "execution_count": 52,
   "metadata": {},
   "outputs": [],
   "source": [
    "def openGroup(groupID):\n",
    "    wb.open(\"https://web.whatsapp.com/accept?code=\" + groupID)"
   ]
  },
  {
   "cell_type": "code",
   "execution_count": 53,
   "metadata": {},
   "outputs": [],
   "source": [
    "file_path = 'E:\\projects\\lectures downloader\\lastDate.txt'  \n",
    "\n",
    "def readLatestDate(file_path):\n",
    "        try:  \n",
    "                with open(file_path,'r') as file:\n",
    "                        line=file.readlines()\n",
    "                        lastdate=str(line[0])\n",
    "                        # print(lastdate)\n",
    "                                \n",
    "                        parts = lastdate.strip().split('-')\n",
    "                        if len(parts) == 3:\n",
    "                                month, day, year = map(int, parts)\n",
    "                                \n",
    "                                \n",
    "                                # print(f\"Month: {month}, Day: {day}, Year: {year}\")\n",
    "                                return lastdate\n",
    "\n",
    "        except FileNotFoundError:\n",
    "                print(f\"File not found: {file_path}\")\n",
    "\n",
    "# latest=readLatestDate(file_path)\n",
    "        \n"
   ]
  },
  {
   "cell_type": "code",
   "execution_count": 54,
   "metadata": {},
   "outputs": [],
   "source": [
    "def getTodaysDate():\n",
    "    today = datetime.date.today()\n",
    "\n",
    "    # Print the date in a specific format (optional)\n",
    "    formatted_date = str(today.strftime(\"%d-%m-%Y\"))  # Example format: YYYY-MM-DD\n",
    "    # print(\"Today's date:\", formatted_date)\n",
    "    return formatted_date\n",
    "# getTodaysDate()"
   ]
  },
  {
   "cell_type": "code",
   "execution_count": 55,
   "metadata": {},
   "outputs": [],
   "source": [
    "def dateDifference(lastdate,today):\n",
    "    date1=datetime.datetime.strptime(lastdate,\"%d-%m-%Y\")\n",
    "    \n",
    "    date2=datetime.datetime.strptime(today,\"%d-%m-%Y\")\n",
    "    dateDiff=date1-date2\n",
    "    # print(dateDiff)\n",
    "    print(\"date 1 is: \",date1)\n",
    "    print(\"date 2 is: :\",date2)\n",
    "    daysDiff=dateDiff.days\n",
    "    print(\"the difference in days is: \", daysDiff)\n",
    "    return daysDiff\n",
    "# print(daysDiff)"
   ]
  },
  {
   "cell_type": "code",
   "execution_count": 56,
   "metadata": {},
   "outputs": [],
   "source": [
    "def formattedLastDay(daysDiff,file_path):\n",
    "    # daysDiff=8\n",
    "    if daysDiff == 0:\n",
    "        return 'today'\n",
    "    elif daysDiff==-1:\n",
    "        return 'Yesterday'\n",
    "    elif daysDiff < -1 and daysDiff >= -7:\n",
    "        date_str = readLatestDate(file_path)\n",
    "        date_obj = datetime.datetime.strptime(date_str, \"%d-%m-%Y\")\n",
    "        day_of_week = date_obj.strftime(\"%A\")\n",
    "        return day_of_week\n",
    "    else:\n",
    "        return readLatestDate(file_path).replace(\"-\",\"/\")\n",
    "\n",
    "    "
   ]
  },
  {
   "cell_type": "code",
   "execution_count": 57,
   "metadata": {},
   "outputs": [],
   "source": [
    "\n",
    "def openTheConsole()-> None:\n",
    "    time.sleep(10)\n",
    "    screen_width, screen_height = pyautogui.size()\n",
    "    xCoordins=0\n",
    "    yCoordins=screen_height//2\n",
    "    pyautogui.moveTo(xCoordins,yCoordins)\n",
    "    time.sleep(2)\n",
    "    pyautogui.rightClick()\n",
    "    time.sleep(2)\n",
    "    inspectXCoordins=xCoordins+100\n",
    "    inspectYCoordins=yCoordins+370\n",
    "    pyautogui.moveTo(inspectXCoordins,inspectYCoordins)\n",
    "    pyautogui.leftClick()\n",
    "    #moving to consolve\n",
    "    pyautogui.move(100,-138)\n",
    "    time.sleep(2)\n",
    "    #clicking on the console\n",
    "    pyautogui.leftClick()"
   ]
  },
  {
   "cell_type": "code",
   "execution_count": 58,
   "metadata": {},
   "outputs": [],
   "source": [
    "def writeCommandsToDownloadFiles(formattedDDDate) -> None:\n",
    "    time.sleep(10)\n",
    "    code_lines = [\n",
    "        'var elements = document.getElementsByClassName(\"_1jHIY _2OvAm focusable-list-item\");',\n",
    "        \"for (var i = 0; i < elements.length; i++) {\",\n",
    "        '    console.log(elements[i])',\n",
    "        '    var spanElement = elements[i].querySelector(\"div > div > span\");',\n",
    "        f'    date = \"{formattedDDDate}\";',\n",
    "        '    console.log(spanElement.textContent)',\n",
    "        '    if (spanElement.textContent == date) {',\n",
    "        '        var nextSiblings = [];',\n",
    "        '        var nextSibling = elements[i].nextElementSibling;',\n",
    "        '        while (nextSibling) {',\n",
    "        '            nextSiblings.push(nextSibling);',\n",
    "        '            nextSibling = nextSibling.nextElementSibling;',\n",
    "        '        }',\n",
    "        '        for (var j = 0; j < nextSiblings.length; j++) {',\n",
    "        '            console.log(nextSiblings[j]);',\n",
    "        '            var buttonDiv = nextSiblings[j].querySelector(\\'div[role=\"button\"]\\');',\n",
    "        '            if (buttonDiv) {',\n",
    "        '                buttonDiv.click();',\n",
    "        '                console.log(\"we clicked element \" + j);',\n",
    "        '            }',\n",
    "        '        }',\n",
    "        '    }',\n",
    "        '}',\n",
    "    ]\n",
    "\n",
    "    for line in code_lines:\n",
    "        pyautogui.typewrite(line + '\\n', interval=0.005)"
   ]
  },
  {
   "cell_type": "code",
   "execution_count": 59,
   "metadata": {},
   "outputs": [],
   "source": [
    "destPath=\"E:\\\\FCSE\\\\testScript\"\n",
    "def moveToDirectory(destinationPathh) ->None:\n",
    "    toRemoved='desktop.ini'\n",
    "    downloadsPath='C:\\\\Users\\\\dell\\\\Downloads'\n",
    "    destinationPathh=\"E:\\\\FCSE\\\\testScript\"\n",
    "\n",
    "    fileList=os.listdir(downloadsPath)\n",
    "    if toRemoved in fileList:\n",
    "        fileList.remove(toRemoved)\n",
    "    print(len(fileList))\n",
    "    print(fileList)\n",
    "    time.sleep(10)\n",
    "    for fileToMove in fileList:\n",
    "        sourcePath=os.path.join(downloadsPath,fileToMove)\n",
    "        distinationPath=os.path.join(destinationPathh,fileToMove)\n",
    "        try:\n",
    "            shutil.move(sourcePath,distinationPath)\n",
    "            print(f\"Successfully moved {fileToMove} to {destinationPathh}\")\n",
    "        except FileNotFoundError:\n",
    "            print(f\"File not found: {sourcePath}\")\n",
    "        except Exception as e:\n",
    "            print(f\"An error occurred: {e}\")"
   ]
  },
  {
   "cell_type": "code",
   "execution_count": 60,
   "metadata": {},
   "outputs": [
    {
     "name": "stdout",
     "output_type": "stream",
     "text": [
      "the latests date is: 09-05-2023, and it's type is <class 'str'>\n",
      "the today date is: 03-10-2023, and it's type is <class 'str'>\n",
      "date 1 is:  2023-05-09 00:00:00\n",
      "date 2 is: : 2023-10-03 00:00:00\n",
      "the difference in days is:  -147\n",
      "the difference date is: -147, and it's type is <class 'int'>\n",
      "the formattedDDate date is: 09/05/2023, and it's type is <class 'str'>\n"
     ]
    }
   ],
   "source": [
    "latestdate=readLatestDate(file_path)\n",
    "\n",
    "print(f\"the latests date is: {latestdate}, and it's type is {type(latestdate)}\")\n",
    "\n",
    "todaysDate=getTodaysDate()\n",
    "\n",
    "print(f\"the today date is: {todaysDate}, and it's type is {type(todaysDate)}\")\n",
    "\n",
    "difference=dateDifference(latestdate,todaysDate)\n",
    "\n",
    "print(f\"the difference date is: {difference}, and it's type is {type(difference)}\")\n",
    "\n",
    "formattedDDate=formattedLastDay(difference,file_path)\n",
    "\n",
    "print(f\"the formattedDDate date is: {formattedDDate}, and it's type is {type(formattedDDate)}\")\n",
    "\n"
   ]
  },
  {
   "cell_type": "code",
   "execution_count": 64,
   "metadata": {},
   "outputs": [
    {
     "name": "stdout",
     "output_type": "stream",
     "text": [
      "8\n",
      "['Data Preprocessing (Encoding - Imputation) (1).html', 'Data Preprocessing (Encoding - Imputation).html', 'Data Preprocessing (Scaling and Resampling) (1).html', 'Data Preprocessing (Scaling and Resampling).html', 'Introduction to Data Preprocessing (1).html', 'Introduction to Data Preprocessing.html', 'Midterm Exam - 35 copy (1).pdf', 'Midterm Exam - 35 copy.pdf']\n",
      "Successfully moved Data Preprocessing (Encoding - Imputation) (1).html to E:\\FCSE\\testScript\n",
      "Successfully moved Data Preprocessing (Encoding - Imputation).html to E:\\FCSE\\testScript\n",
      "Successfully moved Data Preprocessing (Scaling and Resampling) (1).html to E:\\FCSE\\testScript\n",
      "Successfully moved Data Preprocessing (Scaling and Resampling).html to E:\\FCSE\\testScript\n",
      "Successfully moved Introduction to Data Preprocessing (1).html to E:\\FCSE\\testScript\n",
      "Successfully moved Introduction to Data Preprocessing.html to E:\\FCSE\\testScript\n",
      "Successfully moved Midterm Exam - 35 copy (1).pdf to E:\\FCSE\\testScript\n",
      "Successfully moved Midterm Exam - 35 copy.pdf to E:\\FCSE\\testScript\n"
     ]
    }
   ],
   "source": [
    "openGroup('LWLZdL20Z11B0zI5SPUndn')\n",
    "openTheConsole()\n",
    "writeCommandsToDownloadFiles(formattedDDate)\n",
    "time.sleep(10)\n",
    "moveToDirectory(destPath)"
   ]
  },
  {
   "cell_type": "code",
   "execution_count": null,
   "metadata": {},
   "outputs": [],
   "source": []
  },
  {
   "cell_type": "code",
   "execution_count": null,
   "metadata": {},
   "outputs": [],
   "source": [
    "\n",
    "\n"
   ]
  },
  {
   "cell_type": "code",
   "execution_count": null,
   "metadata": {},
   "outputs": [],
   "source": [
    "\n"
   ]
  },
  {
   "cell_type": "code",
   "execution_count": 62,
   "metadata": {},
   "outputs": [],
   "source": [
    "# time.sleep(3)\n",
    "# code_lines = [\n",
    "#     # 'var elements = document.getElementsByClassName(\"_1jHIY _2OvAm focusable-list-item\");',\n",
    "#     # '',\n",
    "#     # 'for (var i = 0; i < elements.length; i++) {',\n",
    "#     # '    console.log(elements[i]);',\n",
    "#     # '}',\n",
    "#     'var elements = document.getElementsByClassName(\"_1jHIY _2OvAm focusable-list-item\");',\n",
    "#         \"for (var i = 0; i < elements.length; i++) {\",\n",
    "#            ' var spanElement = elements[i].querySelector(\"div > div > span\");',\n",
    "#             f'date=\"{formattedDDate}\"',\n",
    "#             \"\"\"if (spanElement.textContent ==date)\n",
    "#                 {\n",
    "#                     var nextSiblings = [];\n",
    "#                     var nextSibling = elements[i].nextElementSibling;\n",
    "#                     while (nextSibling) {\n",
    "#                         nextSiblings.push(nextSibling);\n",
    "#                         nextSibling = nextSibling.nextElementSibling;\n",
    "#                     }\n",
    "#                     for (var j=0;j<nextSiblings.length;j++){\n",
    "#                         console.log(nextSiblings[j])\n",
    "#                         var buttonDiv = nextSiblings[j].querySelector('div[role=\"button\"]');\n",
    "#                         if(buttonDiv){\n",
    "\n",
    "#                         buttonDiv.click()\n",
    "#                         console.log(\"we clicked element \" + j )\n",
    "#                         }\n",
    "\n",
    "#                     }\n",
    "#                 }\n",
    "#             }\n",
    "#             \"\"\"\n",
    "# ]\n",
    "\n",
    "# for line in code_lines:\n",
    "#     pyautogui.typewrite(line + '\\n', interval=0.005)"
   ]
  },
  {
   "cell_type": "code",
   "execution_count": 63,
   "metadata": {},
   "outputs": [
    {
     "data": {
      "text/plain": [
       "10"
      ]
     },
     "execution_count": 63,
     "metadata": {},
     "output_type": "execute_result"
    }
   ],
   "source": [
    "######javascript scripts##############\n",
    "\"\"\"\n",
    "################spand elements selector##########################\n",
    "var elements = document.getElementsByClassName(\"_1jHIY _2OvAm focusable-list-item\");\n",
    "for (var i = 0; i < elements.length; i++) {\n",
    "    var spanElement = elements[i].querySelector(\"div > div > span\");\n",
    "    date=\"10/05/2023\"\n",
    "    if (spanElement.textContent ==date)\n",
    "    {\n",
    "        var nextSiblings = [];\n",
    "        var nextSibling = elements[i].nextElementSibling;\n",
    "        while (nextSibling) {\n",
    "            nextSiblings.push(nextSibling);\n",
    "            nextSibling = nextSibling.nextElementSibling;\n",
    "        }\n",
    "        for (var j=0;j<nextSiblings.length;j++){\n",
    "            console.log(nextSiblings[j])\n",
    "            var buttonDiv = nextSiblings[j].querySelector('div[role=\"button\"]');\n",
    "            if(buttonDiv){\n",
    "\n",
    "            buttonDiv.click()\n",
    "            console.log(\"we clicked element \" + j )\n",
    "            }\n",
    "\n",
    "        }\n",
    "    # }\n",
    "\n",
    "\n",
    "}\n",
    "\n",
    "    console.log(spanElement)\n",
    "\n",
    "\n",
    "\n",
    "\"\"\"\n",
    "10"
   ]
  },
  {
   "cell_type": "code",
   "execution_count": null,
   "metadata": {},
   "outputs": [],
   "source": []
  }
 ],
 "metadata": {
  "kernelspec": {
   "display_name": "Python 3",
   "language": "python",
   "name": "python3"
  },
  "language_info": {
   "codemirror_mode": {
    "name": "ipython",
    "version": 3
   },
   "file_extension": ".py",
   "mimetype": "text/x-python",
   "name": "python",
   "nbconvert_exporter": "python",
   "pygments_lexer": "ipython3",
   "version": "3.11.5"
  },
  "orig_nbformat": 4
 },
 "nbformat": 4,
 "nbformat_minor": 2
}
